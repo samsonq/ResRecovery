{
 "cells": [
  {
   "cell_type": "code",
   "execution_count": 4,
   "metadata": {},
   "outputs": [],
   "source": [
    "import os\n",
    "import sys\n",
    "import numpy as np\n",
    "import pandas as pd\n",
    "from matplotlib import pyplot as plt\n",
    "%matplotlib inline\n",
    "\n",
    "from sklearn.model_selection import train_test_split\n",
    "from sklearn.preprocessing import MinMaxScaler, StandardScaler\n",
    "from sklearn.metrics import mean_squared_error\n",
    "\n",
    "import keras\n",
    "import tensorflow as tf\n",
    "from keras.models import Sequential\n",
    "from keras.layers import Dense, LSTM, GRU, Embedding, Dropout\n",
    "from keras.optimizers import RMSprop\n",
    "from keras import backend as K\n",
    "\n",
    "import warnings\n",
    "warnings.filterwarnings('ignore')\n",
    "\n",
    "sys.path.insert(0, '../src')\n",
    "\n",
    "from utils import *"
   ]
  },
  {
   "cell_type": "code",
   "execution_count": 6,
   "metadata": {},
   "outputs": [],
   "source": [
    "## loading in multiple data sets; primarily to compare and contrast the difference betweena action and still later on\n",
    "low = pd.read_csv('../stdoan-102-action-240p-20201206.csv')\n",
    "med = pd.read_csv('../stdoan-102-action-480p-20201206.csv')\n",
    "high = pd.read_csv('../stdoan-101-action-1080p-20201127.csv')\n",
    "\n",
    "low = filter_ip(low)\n",
    "med = filter_ip(med)\n",
    "high = filter_ip(high)"
   ]
  },
  {
   "cell_type": "code",
   "execution_count": 7,
   "metadata": {},
   "outputs": [
    {
     "data": {
      "text/html": [
       "<div>\n",
       "<style scoped>\n",
       "    .dataframe tbody tr th:only-of-type {\n",
       "        vertical-align: middle;\n",
       "    }\n",
       "\n",
       "    .dataframe tbody tr th {\n",
       "        vertical-align: top;\n",
       "    }\n",
       "\n",
       "    .dataframe thead th {\n",
       "        text-align: right;\n",
       "    }\n",
       "</style>\n",
       "<table border=\"1\" class=\"dataframe\">\n",
       "  <thead>\n",
       "    <tr style=\"text-align: right;\">\n",
       "      <th></th>\n",
       "      <th>Time</th>\n",
       "      <th>IP1</th>\n",
       "      <th>Port1</th>\n",
       "      <th>IP2</th>\n",
       "      <th>Port2</th>\n",
       "      <th>Proto</th>\n",
       "      <th>1-&gt;2Bytes</th>\n",
       "      <th>2-&gt;1Bytes</th>\n",
       "      <th>1-&gt;2Pkts</th>\n",
       "      <th>2-&gt;1Pkts</th>\n",
       "      <th>packet_times</th>\n",
       "      <th>packet_sizes</th>\n",
       "      <th>packet_dirs</th>\n",
       "    </tr>\n",
       "  </thead>\n",
       "  <tbody>\n",
       "    <tr>\n",
       "      <td>3</td>\n",
       "      <td>1607315408</td>\n",
       "      <td>192.168.0.10</td>\n",
       "      <td>63300</td>\n",
       "      <td>137.110.0.69</td>\n",
       "      <td>443</td>\n",
       "      <td>17</td>\n",
       "      <td>23139</td>\n",
       "      <td>260613</td>\n",
       "      <td>122</td>\n",
       "      <td>214</td>\n",
       "      <td>1607315408186;1607315408201;1607315408215;1607...</td>\n",
       "      <td>612;379;126;126;193;157;165;126;165;126;482;13...</td>\n",
       "      <td>1;1;2;2;2;2;2;1;1;2;2;2;1;2;2;2;2;1;2;2;1;1;2;...</td>\n",
       "    </tr>\n",
       "    <tr>\n",
       "      <td>4</td>\n",
       "      <td>1607315409</td>\n",
       "      <td>192.168.0.10</td>\n",
       "      <td>63300</td>\n",
       "      <td>137.110.0.69</td>\n",
       "      <td>443</td>\n",
       "      <td>17</td>\n",
       "      <td>27301</td>\n",
       "      <td>327841</td>\n",
       "      <td>138</td>\n",
       "      <td>254</td>\n",
       "      <td>1607315409388;1607315409389;1607315409589;1607...</td>\n",
       "      <td>1362;204;1362;204;1366;505;126;1346;1346;1346;...</td>\n",
       "      <td>1;1;1;1;1;1;2;2;2;2;1;2;2;2;1;1;2;2;1;2;2;2;2;...</td>\n",
       "    </tr>\n",
       "    <tr>\n",
       "      <td>7</td>\n",
       "      <td>1607315410</td>\n",
       "      <td>192.168.0.10</td>\n",
       "      <td>63300</td>\n",
       "      <td>137.110.0.69</td>\n",
       "      <td>443</td>\n",
       "      <td>17</td>\n",
       "      <td>25782</td>\n",
       "      <td>393396</td>\n",
       "      <td>159</td>\n",
       "      <td>297</td>\n",
       "      <td>1607315410228;1607315410228;1607315410257;1607...</td>\n",
       "      <td>1366;381;1346;1346;1346;126;1346;1346;126;1346...</td>\n",
       "      <td>1;1;2;2;2;1;2;2;1;2;2;2;2;2;2;2;1;1;2;2;2;2;2;...</td>\n",
       "    </tr>\n",
       "    <tr>\n",
       "      <td>8</td>\n",
       "      <td>1607315410</td>\n",
       "      <td>192.168.0.4</td>\n",
       "      <td>55188</td>\n",
       "      <td>192.168.0.255</td>\n",
       "      <td>15600</td>\n",
       "      <td>17</td>\n",
       "      <td>63</td>\n",
       "      <td>0</td>\n",
       "      <td>1</td>\n",
       "      <td>0</td>\n",
       "      <td>1607315410867;</td>\n",
       "      <td>63;</td>\n",
       "      <td>1;</td>\n",
       "    </tr>\n",
       "    <tr>\n",
       "      <td>9</td>\n",
       "      <td>1607315411</td>\n",
       "      <td>192.168.0.10</td>\n",
       "      <td>63300</td>\n",
       "      <td>137.110.0.69</td>\n",
       "      <td>443</td>\n",
       "      <td>17</td>\n",
       "      <td>19908</td>\n",
       "      <td>280976</td>\n",
       "      <td>116</td>\n",
       "      <td>221</td>\n",
       "      <td>1607315411010;1607315411010;1607315411037;1607...</td>\n",
       "      <td>245;1057;126;126;206;1346;126;1346;504;126;442...</td>\n",
       "      <td>1;1;2;2;2;2;1;2;2;1;2;1;1;1;2;2;2;2;2;2;1;2;2;...</td>\n",
       "    </tr>\n",
       "  </tbody>\n",
       "</table>\n",
       "</div>"
      ],
      "text/plain": [
       "         Time           IP1  Port1            IP2  Port2  Proto  1->2Bytes  \\\n",
       "3  1607315408  192.168.0.10  63300   137.110.0.69    443     17      23139   \n",
       "4  1607315409  192.168.0.10  63300   137.110.0.69    443     17      27301   \n",
       "7  1607315410  192.168.0.10  63300   137.110.0.69    443     17      25782   \n",
       "8  1607315410   192.168.0.4  55188  192.168.0.255  15600     17         63   \n",
       "9  1607315411  192.168.0.10  63300   137.110.0.69    443     17      19908   \n",
       "\n",
       "   2->1Bytes  1->2Pkts  2->1Pkts  \\\n",
       "3     260613       122       214   \n",
       "4     327841       138       254   \n",
       "7     393396       159       297   \n",
       "8          0         1         0   \n",
       "9     280976       116       221   \n",
       "\n",
       "                                        packet_times  \\\n",
       "3  1607315408186;1607315408201;1607315408215;1607...   \n",
       "4  1607315409388;1607315409389;1607315409589;1607...   \n",
       "7  1607315410228;1607315410228;1607315410257;1607...   \n",
       "8                                     1607315410867;   \n",
       "9  1607315411010;1607315411010;1607315411037;1607...   \n",
       "\n",
       "                                        packet_sizes  \\\n",
       "3  612;379;126;126;193;157;165;126;165;126;482;13...   \n",
       "4  1362;204;1362;204;1366;505;126;1346;1346;1346;...   \n",
       "7  1366;381;1346;1346;1346;126;1346;1346;126;1346...   \n",
       "8                                                63;   \n",
       "9  245;1057;126;126;206;1346;126;1346;504;126;442...   \n",
       "\n",
       "                                         packet_dirs  \n",
       "3  1;1;2;2;2;2;2;1;1;2;2;2;1;2;2;2;2;1;2;2;1;1;2;...  \n",
       "4  1;1;1;1;1;1;2;2;2;2;1;2;2;2;1;1;2;2;1;2;2;2;2;...  \n",
       "7  1;1;2;2;2;1;2;2;1;2;2;2;2;2;2;2;1;1;2;2;2;2;2;...  \n",
       "8                                                 1;  \n",
       "9  1;1;2;2;2;2;1;2;2;1;2;1;1;1;2;2;2;2;2;2;1;2;2;...  "
      ]
     },
     "execution_count": 7,
     "metadata": {},
     "output_type": "execute_result"
    }
   ],
   "source": [
    "low.head()"
   ]
  },
  {
   "cell_type": "code",
   "execution_count": 92,
   "metadata": {},
   "outputs": [],
   "source": [
    "X_train = []\n",
    "y_train = np.array([[1, 0, 0], [0, 1, 0], [0, 0, 1]])\n",
    "\n",
    "for i, data in enumerate([low, med, high]):\n",
    "    X_train.append(list(data[\"1->2Bytes\"][:500]))\n",
    "    \n",
    "X_train = np.array(X_train)\n",
    "X_train = X_train.reshape(X_train.shape[0], 1, X_train.shape[1])"
   ]
  },
  {
   "cell_type": "code",
   "execution_count": 93,
   "metadata": {},
   "outputs": [],
   "source": [
    "model = Sequential()\n",
    "model.add(LSTM(100, dropout=0.2, input_shape=(X_train.shape[1], X_train.shape[2])))\n",
    "model.add(Dense(3, activation=\"softmax\"))\n",
    "\n",
    "model.compile(loss='categorical_crossentropy', optimizer='adam', metrics=['accuracy'])"
   ]
  },
  {
   "cell_type": "code",
   "execution_count": 94,
   "metadata": {
    "scrolled": false
   },
   "outputs": [
    {
     "name": "stdout",
     "output_type": "stream",
     "text": [
      "Epoch 1/3\n",
      "3/3 [==============================] - 2s 591ms/step - loss: 0.7797 - accuracy: 0.6667\n",
      "Epoch 2/3\n",
      "3/3 [==============================] - 0s 4ms/step - loss: 0.9030 - accuracy: 0.6667\n",
      "Epoch 3/3\n",
      "3/3 [==============================] - 0s 4ms/step - loss: 0.9804 - accuracy: 0.3333\n"
     ]
    },
    {
     "data": {
      "text/plain": [
       "<keras.callbacks.callbacks.History at 0x7feb4e4ccfd0>"
      ]
     },
     "execution_count": 94,
     "metadata": {},
     "output_type": "execute_result"
    }
   ],
   "source": [
    "model.fit(X_train, y_train, epochs=3)"
   ]
  },
  {
   "cell_type": "code",
   "execution_count": null,
   "metadata": {},
   "outputs": [],
   "source": []
  }
 ],
 "metadata": {
  "kernelspec": {
   "display_name": "Python 3",
   "language": "python",
   "name": "python3"
  },
  "language_info": {
   "codemirror_mode": {
    "name": "ipython",
    "version": 3
   },
   "file_extension": ".py",
   "mimetype": "text/x-python",
   "name": "python",
   "nbconvert_exporter": "python",
   "pygments_lexer": "ipython3",
   "version": "3.6.8"
  }
 },
 "nbformat": 4,
 "nbformat_minor": 2
}
