{
 "cells": [
  {
   "cell_type": "code",
   "execution_count": null,
   "metadata": {},
   "outputs": [],
   "source": [
    "import os\n",
    "import sys\n",
    "import re\n",
    "\n",
    "import numpy as np\n",
    "import pandas as pd\n",
    "import scipy as sp\n",
    "from scipy import signal\n",
    "\n",
    "import matplotlib.pyplot as plt\n",
    "import seaborn as sns\n",
    "\n",
    "import warnings\n",
    "warnings.filterwarnings('ignore')\n",
    "\n",
    "%matplotlib inline"
   ]
  },
  {
   "cell_type": "code",
   "execution_count": null,
   "metadata": {},
   "outputs": [],
   "source": [
    "sys.path.insert(0, '../src')\n",
    "\n",
    "from utils import *"
   ]
  },
  {
   "cell_type": "code",
   "execution_count": null,
   "metadata": {},
   "outputs": [],
   "source": [
    "sns.set(rc={'figure.figsize':(20,5)})"
   ]
  },
  {
   "cell_type": "code",
   "execution_count": null,
   "metadata": {},
   "outputs": [],
   "source": [
    "low_fp = '../data/240p/' \n",
    "med_fp = '../data/480p/'\n",
    "high_fp = '../data/1080p/' "
   ]
  },
  {
   "cell_type": "code",
   "execution_count": null,
   "metadata": {},
   "outputs": [],
   "source": [
    "mbit_rate = 1/125000"
   ]
  },
  {
   "cell_type": "code",
   "execution_count": null,
   "metadata": {},
   "outputs": [],
   "source": [
    "## loading in multiple data sets; primarily to compare and contrast the difference betweena action and still later on\n",
    "iman_low = pd.read_csv(low_fp + 'imnemato-104-action-240p-20210110.csv')\n",
    "iman_med = pd.read_csv(med_fp + 'imnemato-104-action-480p-20210110.csv')\n",
    "iman_high = pd.read_csv(high_fp + 'imnemato-104-action-1080p-20210110.csv')\n",
    "\n",
    "imm_low = filter_ip(iman_low)\n",
    "imm_med = filter_ip(iman_med)\n",
    "imm_high = filter_ip(iman_high)\n",
    "\n",
    "andrew_low = pd.read_csv(low_fp+'sgs008-107-still-240p-20210112.csv')\n",
    "andrew_med = pd.read_csv(med_fp+'sgs008-107-still-480p-20210112.csv')\n",
    "andrew_high = pd.read_csv(high_fp+'sgs008-107-still-1080p-20210112.csv')\n",
    "\n",
    "sgs_low = filter_ip(andrew_low)\n",
    "sgs_med = filter_ip(andrew_med)\n",
    "sgs_high = filter_ip(andrew_high)\n",
    "\n",
    "shrimant_low = pd.read_csv(low_fp + 'shs214-108-action-240p-20210112.csv')\n",
    "shrimant_med = pd.read_csv(med_fp + 'shs214-108-action-480p-20210112.csv')\n",
    "shrimant_high = pd.read_csv(high_fp + 'shs214-108-action-1080p-20210112.csv')\n",
    "\n",
    "# shrimant_low = pd.read_csv(low_fp + 'shs214-103-still-240p-20210109.csv')\n",
    "# shrimant_med = pd.read_csv(med_fp + 'shs214-103-still-480p-20210109.csv')\n",
    "# shrimant_high = pd.read_csv(high_fp + 'shs214-103-still-1080p-20210109.csv')\n",
    "\n",
    "shs_low = filter_ip(shrimant_low)\n",
    "shs_med = filter_ip(shrimant_med)\n",
    "shs_high = filter_ip(shrimant_high)"
   ]
  },
  {
   "cell_type": "code",
   "execution_count": null,
   "metadata": {},
   "outputs": [],
   "source": [
    "stdoan_low = pd.read_csv(low_fp + 'stdoan-101-action-240p-20201127.csv')\n",
    "stdoan_med = pd.read_csv(med_fp + 'stdoan-101-action-480p-20201127.csv')\n",
    "stdoan_high = pd.read_csv(high_fp + 'stdoan-101-action-1080p-20201127.csv')"
   ]
  },
  {
   "cell_type": "markdown",
   "metadata": {},
   "source": [
    "## Quick Summary Statistics\n",
    "\n",
    "Ran the summary function on the 3 different resolutions just to get a brief overview of what we're working with. The main difference we see is that the averages of the download and upload bytes increases as the resolution increase. However, it doesn't seem to be an exactly \"linear\" increase. The number of bytes and packets seem to increase almost exponentially as the resolution increases. "
   ]
  },
  {
   "cell_type": "code",
   "execution_count": null,
   "metadata": {},
   "outputs": [],
   "source": [
    "stdoan_low[['2->1Bytes', '1->2Bytes', '2->1Pkts', '1->2Pkts']].describe()"
   ]
  },
  {
   "cell_type": "code",
   "execution_count": null,
   "metadata": {},
   "outputs": [],
   "source": [
    "stdoan_med[['2->1Bytes', '1->2Bytes', '2->1Pkts', '1->2Pkts']].describe()"
   ]
  },
  {
   "cell_type": "code",
   "execution_count": null,
   "metadata": {},
   "outputs": [],
   "source": [
    "stdoan_high[['2->1Bytes', '1->2Bytes', '2->1Pkts', '1->2Pkts']].describe()"
   ]
  },
  {
   "cell_type": "markdown",
   "metadata": {},
   "source": [
    "## Comparing Byte Stream\n",
    "\n",
    "I plotted the download and upload stream of bytes from 3 resolutions onto one graph. Though I initially plotted these seperately, by comparing all resolutions on the same scale, I can start to see how much difference there is in behavior. From initial observations, I can see that higher resolutions typically send more data more frequently. However, the download stream of lower resolutions seems to be fairly nonperiodic. This can be a problem later on when we try to apply something like FFT or Welch's method. \n",
    "\n",
    "Upload has the same frequency of data but on a small scale of download. "
   ]
  },
  {
   "cell_type": "code",
   "execution_count": null,
   "metadata": {},
   "outputs": [],
   "source": [
    "low_grp = stdoan_low.groupby('Time')['2->1Bytes'].sum()\n",
    "med_grp = stdoan_med.groupby('Time')['2->1Bytes'].sum()\n",
    "high_grp = stdoan_high.groupby('Time')['2->1Bytes'].sum()\n",
    "\n",
    "plt.plot(low_grp.values * mbit_rate, label='240p', color='blue')\n",
    "plt.plot(med_grp.values * mbit_rate, label='480p', color='red')\n",
    "plt.plot(high_grp.values * mbit_rate, label='1080p', color='green')\n",
    "\n",
    "plt.legend(loc='upper left')\n",
    "\n",
    "plt.title('Download - All Resolutions (Action) - Youtube', fontsize=24)\n",
    "\n",
    "plt.xlabel('Seconds (from start)', fontsize=20)\n",
    "plt.xticks([0, 60, 120, 180, 240], fontsize=16)\n",
    "plt.xlim(-2, 120)"
   ]
  },
  {
   "cell_type": "code",
   "execution_count": null,
   "metadata": {
    "scrolled": true
   },
   "outputs": [],
   "source": [
    "low_grp = stdoan_low.groupby('Time')['1->2Bytes'].sum()\n",
    "med_grp = stdoan_med.groupby('Time')['1->2Bytes'].sum()\n",
    "high_grp = stdoan_high.groupby('Time')['1->2Bytes'].sum()\n",
    "\n",
    "plt.plot(low_grp.values * mbit_rate, label='240p', color='blue')\n",
    "plt.plot(med_grp.values * mbit_rate, label='480p', color='red')\n",
    "plt.plot(high_grp.values * mbit_rate, label='1080p', color='green')\n",
    "\n",
    "plt.legend(loc='upper left')\n",
    "\n",
    "plt.title('Upload - All Resolutions (Action) - Youtube', fontsize=24)\n",
    "\n",
    "plt.xlabel('Seconds (from start)', fontsize=20)\n",
    "plt.xticks([0, 60, 120, 180, 240], fontsize=16)\n",
    "plt.xlim(-2, 120)"
   ]
  },
  {
   "cell_type": "markdown",
   "metadata": {},
   "source": [
    "## Quick Spectral Analysis\n",
    "\n",
    "Basing off of last quarter, I used Welch's method to get a quick look at what was happening in the domain frequency.\n",
    "\n",
    "Main take away is that the PSD varies greatly when comparing resolutions. When comparing the plots on its own respective scale, it looks as though there seems to be some shared similarities. However, when directly plotted on the same axis, we see that 1080p dwarfs the other two. This was hinted at the beginning when we were taking our summary stats.\n",
    "\n",
    "So using the PSD values seems to be a good start for feature engineering. "
   ]
  },
  {
   "cell_type": "code",
   "execution_count": null,
   "metadata": {},
   "outputs": [],
   "source": [
    "low_ms = convert_ms_df(stdoan_low, True)\n",
    "med_ms = convert_ms_df(stdoan_med, True)\n",
    "high_ms = convert_ms_df(stdoan_high, True)\n",
    "\n",
    "low_resample = low_ms.resample('500ms', on='Time').sum()\n",
    "med_resample = med_ms.resample('500ms', on='Time').sum()\n",
    "high_resample = high_ms.resample('500ms', on='Time').sum()\n",
    "\n",
    "f_low, Pxx_low = sp.signal.welch(low_resample['pkt_size'])\n",
    "f_med, Pxx_med = sp.signal.welch(med_resample['pkt_size'])\n",
    "f_high, Pxx_high = sp.signal.welch(high_resample['pkt_size'])"
   ]
  },
  {
   "cell_type": "code",
   "execution_count": null,
   "metadata": {},
   "outputs": [],
   "source": []
  },
  {
   "cell_type": "code",
   "execution_count": null,
   "metadata": {},
   "outputs": [],
   "source": []
  },
  {
   "cell_type": "code",
   "execution_count": null,
   "metadata": {},
   "outputs": [],
   "source": []
  },
  {
   "cell_type": "code",
   "execution_count": null,
   "metadata": {},
   "outputs": [],
   "source": []
  },
  {
   "cell_type": "code",
   "execution_count": null,
   "metadata": {},
   "outputs": [],
   "source": []
  },
  {
   "cell_type": "code",
   "execution_count": null,
   "metadata": {},
   "outputs": [],
   "source": []
  },
  {
   "cell_type": "code",
   "execution_count": null,
   "metadata": {},
   "outputs": [],
   "source": []
  },
  {
   "cell_type": "markdown",
   "metadata": {},
   "source": [
    "## Dev Playground"
   ]
  },
  {
   "cell_type": "code",
   "execution_count": null,
   "metadata": {},
   "outputs": [],
   "source": [
    "high_resample = high_ms.resample('250ms', on='Time').sum()\n",
    "test_welch = high_resample[100:1300]\n",
    "\n",
    "test_f, Pxx_f = sp.signal.welch(test_welch['pkt_size'], fs=4)"
   ]
  },
  {
   "cell_type": "code",
   "execution_count": null,
   "metadata": {},
   "outputs": [],
   "source": [
    "iman_high = pd.read_csv(high_fp + 'imnemato-104-action-1080p-20210110.csv')\n",
    "\n",
    "iman_ms = convert_ms_df(iman_high, True)\n",
    "iman_resample = iman_ms.resample('1000ms', on='Time').sum()"
   ]
  },
  {
   "cell_type": "code",
   "execution_count": null,
   "metadata": {},
   "outputs": [],
   "source": [
    "f_iman, Pxx_iman = sp.signal.welch(iman_resample['pkt_size'], fs=4)"
   ]
  },
  {
   "cell_type": "code",
   "execution_count": null,
   "metadata": {},
   "outputs": [],
   "source": [
    "plt.plot(iman_resample)"
   ]
  },
  {
   "cell_type": "code",
   "execution_count": null,
   "metadata": {},
   "outputs": [],
   "source": [
    "plt.plot(f_iman, Pxx_iman)"
   ]
  },
  {
   "cell_type": "code",
   "execution_count": null,
   "metadata": {},
   "outputs": [],
   "source": [
    "plt.plot(test_welch.rolling(3).mean()['pkt_size'])\n",
    "                           "
   ]
  },
  {
   "cell_type": "code",
   "execution_count": null,
   "metadata": {},
   "outputs": [],
   "source": [
    "test_welch.head(10)"
   ]
  },
  {
   "cell_type": "code",
   "execution_count": null,
   "metadata": {},
   "outputs": [],
   "source": [
    "## time series\n",
    "plt.plot(test_welch)"
   ]
  },
  {
   "cell_type": "code",
   "execution_count": null,
   "metadata": {},
   "outputs": [],
   "source": [
    "## first 100 samples cut off\n",
    "plt.plot(test_f, Pxx_f)\n",
    "plt.title('first 100 samples cut off', fontsize = 24)"
   ]
  },
  {
   "cell_type": "code",
   "execution_count": null,
   "metadata": {
    "scrolled": true
   },
   "outputs": [],
   "source": [
    "plt.plot(f_low, Pxx_low, label = '240p',  color='blue')\n",
    "plt.plot(f_med, Pxx_med, label = '480p', color = 'red')\n",
    "plt.plot(f_high, Pxx_high, label = '1080p', color ='green')\n",
    "\n",
    "plt.legend(loc='upper left')\n",
    "\n",
    "plt.title('Welch\\'s Method - All Resolutions - Youtube', fontsize=24)\n",
    "\n",
    "plt.xlabel('Frequency', fontsize=20)"
   ]
  },
  {
   "cell_type": "code",
   "execution_count": null,
   "metadata": {},
   "outputs": [],
   "source": []
  },
  {
   "cell_type": "code",
   "execution_count": null,
   "metadata": {},
   "outputs": [],
   "source": [
    "plt.plot(f_low, Pxx_low, label = '240p',  color='blue')\n",
    "\n",
    "plt.legend(loc='upper left')\n",
    "\n",
    "plt.title('Welch\\'s Method - 240p - Youtube', fontsize=24)\n",
    "\n",
    "plt.xlabel('Frequency', fontsize=20)"
   ]
  },
  {
   "cell_type": "code",
   "execution_count": null,
   "metadata": {},
   "outputs": [],
   "source": [
    "plt.plot(f_low, Pxx_low, label = '240p',  color='blue')\n",
    "plt.plot(f_med, Pxx_med, label = '480p', color = 'red')\n",
    "\n",
    "plt.legend(loc='upper left')\n",
    "\n",
    "plt.title('Welch\\'s Method - 240p vs 480p - Youtube', fontsize=24)\n",
    "\n",
    "plt.xlabel('Frequency', fontsize=20)"
   ]
  },
  {
   "cell_type": "markdown",
   "metadata": {},
   "source": [
    "## 2 Minutes"
   ]
  },
  {
   "cell_type": "code",
   "execution_count": null,
   "metadata": {},
   "outputs": [],
   "source": [
    "plt.plot(np.arange(240), stdoan_high['2->1Bytes'][0:240] * mbit_rate, label='1080p', color='green')\n",
    "plt.title('First 2 Minutes (Raw)', fontsize=20)"
   ]
  },
  {
   "cell_type": "code",
   "execution_count": null,
   "metadata": {
    "scrolled": true
   },
   "outputs": [],
   "source": [
    "plt.plot(np.arange(240), high_resample[0:240] * mbit_rate, label='1080p', color='green')\n",
    "plt.title('First 2 Minutes (Resampled)', fontsize=20)"
   ]
  },
  {
   "cell_type": "markdown",
   "metadata": {},
   "source": [
    "## 5 Minutes"
   ]
  },
  {
   "cell_type": "code",
   "execution_count": null,
   "metadata": {},
   "outputs": [],
   "source": [
    "plt.plot(np.arange(300), stdoan_high['2->1Bytes'][0:300] * mbit_rate, label='1080p', color='green')\n",
    "plt.title('First 5 Minutes (Raw)', fontsize=20)"
   ]
  },
  {
   "cell_type": "code",
   "execution_count": null,
   "metadata": {
    "scrolled": true
   },
   "outputs": [],
   "source": [
    "plt.plot(np.arange(600), high_resample[0:600] * mbit_rate, label='1080p', color='green')\n",
    "plt.title('First 5 Minutes (Resampled)', fontsize=20)"
   ]
  },
  {
   "cell_type": "markdown",
   "metadata": {},
   "source": [
    "## 10 Minutes"
   ]
  },
  {
   "cell_type": "code",
   "execution_count": null,
   "metadata": {},
   "outputs": [],
   "source": [
    "stdoan."
   ]
  },
  {
   "cell_type": "code",
   "execution_count": null,
   "metadata": {},
   "outputs": [],
   "source": []
  },
  {
   "cell_type": "code",
   "execution_count": null,
   "metadata": {},
   "outputs": [],
   "source": []
  },
  {
   "cell_type": "code",
   "execution_count": null,
   "metadata": {},
   "outputs": [],
   "source": [
    "## .5s(500ms) between each x value\n",
    "\n",
    "plt.plot(np.arange(1200), high_resample[0:1200] * mbit_rate, label='1080p', color='green')\n",
    "plt.title('First 10 Minutes (Resampled)', fontsize=20)"
   ]
  },
  {
   "cell_type": "markdown",
   "metadata": {},
   "source": [
    "## 20 Minutes"
   ]
  },
  {
   "cell_type": "code",
   "execution_count": null,
   "metadata": {},
   "outputs": [],
   "source": [
    "plt.plot(high_resample * mbit_rate, color='green')"
   ]
  },
  {
   "cell_type": "code",
   "execution_count": null,
   "metadata": {},
   "outputs": [],
   "source": []
  },
  {
   "cell_type": "code",
   "execution_count": null,
   "metadata": {},
   "outputs": [],
   "source": []
  },
  {
   "cell_type": "code",
   "execution_count": null,
   "metadata": {},
   "outputs": [],
   "source": []
  },
  {
   "cell_type": "code",
   "execution_count": null,
   "metadata": {},
   "outputs": [],
   "source": []
  },
  {
   "cell_type": "code",
   "execution_count": null,
   "metadata": {},
   "outputs": [],
   "source": []
  }
 ],
 "metadata": {
  "kernelspec": {
   "display_name": "Python 3",
   "language": "python",
   "name": "python3"
  },
  "language_info": {
   "codemirror_mode": {
    "name": "ipython",
    "version": 3
   },
   "file_extension": ".py",
   "mimetype": "text/x-python",
   "name": "python",
   "nbconvert_exporter": "python",
   "pygments_lexer": "ipython3",
   "version": "3.7.1"
  }
 },
 "nbformat": 4,
 "nbformat_minor": 2
}
